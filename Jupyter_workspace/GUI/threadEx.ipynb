{
 "cells": [
  {
   "cell_type": "markdown",
   "id": "240b6fdc",
   "metadata": {},
   "source": [
    "# thread (비동기 프로그래밍)"
   ]
  },
  {
   "cell_type": "code",
   "execution_count": 1,
   "id": "cb561f65",
   "metadata": {},
   "outputs": [
    {
     "data": {
      "text/plain": [
       "'\\n# 비동기 프로그래밍 : 서로 간섭없이 독립적으로 작업을 진행할 수 있도록 하는 프로그래밍 기법\\n                   : 이를 위해 파이선은 Thread 를 지원\\n# 파이선이 지원하는 쓰레드 사용 모듈 : _thread, threading\\n'"
      ]
     },
     "execution_count": 1,
     "metadata": {},
     "output_type": "execute_result"
    }
   ],
   "source": [
    "'''\n",
    "# 비동기 프로그래밍 : 서로 간섭없이 독립적으로 작업을 진행할 수 있도록 하는 프로그래밍 기법\n",
    "                   : 이를 위해 파이선은 Thread 를 지원\n",
    "# 파이선이 지원하는 쓰레드 사용 모듈 : _thread, threading\n",
    "'''"
   ]
  },
  {
   "cell_type": "markdown",
   "id": "a1679577",
   "metadata": {},
   "source": [
    "### _thread module"
   ]
  },
  {
   "cell_type": "code",
   "execution_count": 12,
   "id": "726d5ea1",
   "metadata": {},
   "outputs": [],
   "source": [
    "import _thread\n",
    "import time\n",
    "import random as rd"
   ]
  },
  {
   "cell_type": "code",
   "execution_count": 13,
   "id": "0c3b17d7",
   "metadata": {},
   "outputs": [],
   "source": [
    "def threadFunction(str):  # thread로 동작하는 함수\n",
    "    cnt = 0\n",
    "    while(cnt < 10):\n",
    "        time.sleep(rd.randint(0, 100)/100.0)\n",
    "        print(str, cnt)\n",
    "        cnt += 1"
   ]
  },
  {
   "cell_type": "code",
   "execution_count": 14,
   "id": "052b003a",
   "metadata": {},
   "outputs": [
    {
     "data": {
      "text/plain": [
       "11404"
      ]
     },
     "execution_count": 14,
     "metadata": {},
     "output_type": "execute_result"
    },
    {
     "name": "stdout",
     "output_type": "stream",
     "text": [
      "유관순 0\n",
      "홍길동 0\n",
      "유관순 1\n",
      "유관순 2\n",
      "홍길동 1\n",
      "유관순 3\n",
      "홍길동 2\n",
      "유관순 4\n",
      "홍길동 3\n",
      "유관순 5\n",
      "홍길동 4\n",
      "홍길동 5\n",
      "유관순 6\n",
      "홍길동 6\n",
      "홍길동 7\n",
      "유관순 7\n",
      "유관순 8\n",
      "홍길동 8\n",
      "유관순 9\n",
      "홍길동 9\n"
     ]
    }
   ],
   "source": [
    "# _thread.start_new_thread(쓰레드 진입점, (쓰레드 진입점에 전달할 인자)) #튜플로\n",
    "\n",
    "_thread.start_new_thread(threadFunction, ('홍길동',))\n",
    "_thread.start_new_thread(threadFunction, ('유관순',))"
   ]
  },
  {
   "cell_type": "markdown",
   "id": "48f91f06",
   "metadata": {},
   "source": [
    "### threading module"
   ]
  },
  {
   "cell_type": "code",
   "execution_count": 5,
   "id": "822e019c",
   "metadata": {},
   "outputs": [
    {
     "data": {
      "text/plain": [
       "'\\n# threading.Thread() 객체를 호출\\n# Thread(target=쓰레드진입점, args=전달할인자(튜플형태))\\n                           , kwargs=전달할인자{딕셔너리형태})\\n# 쓰레드 동작\\n# 쓰레드 \\n'"
      ]
     },
     "execution_count": 5,
     "metadata": {},
     "output_type": "execute_result"
    }
   ],
   "source": [
    "'''\n",
    "# threading.Thread() 객체를 호출\n",
    "# Thread(target=쓰레드진입점, args=전달할인자(튜플형태))\n",
    "                           , kwargs=전달할인자{딕셔너리형태})\n",
    "# 쓰레드 동작\n",
    "# 쓰레드 \n",
    "'''"
   ]
  },
  {
   "cell_type": "code",
   "execution_count": 15,
   "id": "17da5324",
   "metadata": {},
   "outputs": [],
   "source": [
    "import threading\n",
    "import time\n",
    "import random"
   ]
  },
  {
   "cell_type": "code",
   "execution_count": 16,
   "id": "35219d30",
   "metadata": {},
   "outputs": [],
   "source": [
    "def threadFunction(str):\n",
    "    cnt = 0\n",
    "    while(cnt<10):\n",
    "        time.sleep(random.randint(0, 100)/100.0)\n",
    "        print(str, cnt)\n",
    "        cnt += 1"
   ]
  },
  {
   "cell_type": "code",
   "execution_count": 17,
   "id": "cd686621",
   "metadata": {},
   "outputs": [],
   "source": [
    "thread1 = threading.Thread(target=threadFunction, args=('신사임당',))\n",
    "thread2 = threading.Thread(target=threadFunction, args=('이순신',))"
   ]
  },
  {
   "cell_type": "code",
   "execution_count": 18,
   "id": "05be232c",
   "metadata": {
    "scrolled": false
   },
   "outputs": [
    {
     "name": "stdout",
     "output_type": "stream",
     "text": [
      "이순신 0\n",
      "신사임당 0\n",
      "신사임당 1\n",
      "이순신 1\n",
      "신사임당 2\n",
      "신사임당 3\n",
      "신사임당 4\n",
      "이순신 2\n",
      "이순신 3\n",
      "신사임당 5\n",
      "신사임당 6\n",
      "이순신 4\n",
      "이순신 5\n",
      "이순신 6\n",
      "이순신 7\n",
      "신사임당 7\n",
      "신사임당 8\n",
      "신사임당 9\n",
      "이순신 8\n",
      "이순신 9\n"
     ]
    }
   ],
   "source": [
    "thread1.start()\n",
    "thread2.start()\n",
    "\n",
    "\n",
    "thread1.join()\n",
    "thread2.join()"
   ]
  },
  {
   "cell_type": "code",
   "execution_count": null,
   "id": "759b0e75",
   "metadata": {},
   "outputs": [],
   "source": [
    "# 스크래핑?"
   ]
  },
  {
   "cell_type": "code",
   "execution_count": 19,
   "id": "99de0036",
   "metadata": {},
   "outputs": [],
   "source": [
    "import threading\n",
    "import requests\n",
    "import time"
   ]
  },
  {
   "cell_type": "code",
   "execution_count": 20,
   "id": "da4de661",
   "metadata": {},
   "outputs": [],
   "source": [
    "def getUrlText(url):\n",
    "    res = requests.get(url)\n",
    "    time.sleep(1)\n",
    "    print(url, len(res.text), ' 문자 정보')"
   ]
  },
  {
   "cell_type": "code",
   "execution_count": 23,
   "id": "1aa290b5",
   "metadata": {
    "scrolled": true
   },
   "outputs": [
    {
     "name": "stdout",
     "output_type": "stream",
     "text": [
      "1\n",
      "2\n",
      "3\n",
      "4\n",
      "5\n",
      "6\n",
      "7\n",
      "8\n",
      "9\n",
      "10\n",
      "http://example.com/ 1256  문자 정보\n"
     ]
    }
   ],
   "source": [
    "td = threading.Thread(target=getUrlText, args=('http://example.com/',))\n",
    "td.start()\n",
    "\n",
    "for i in range(1, 11):  #이 반복문 이 밑에 있음에도 위의 td가 반복문 뒤에 실행됨\n",
    "    print(i)"
   ]
  },
  {
   "cell_type": "code",
   "execution_count": null,
   "id": "41fc5ca3",
   "metadata": {},
   "outputs": [],
   "source": []
  },
  {
   "cell_type": "code",
   "execution_count": null,
   "id": "58ff1e74",
   "metadata": {},
   "outputs": [],
   "source": []
  },
  {
   "cell_type": "code",
   "execution_count": null,
   "id": "f87c5024",
   "metadata": {},
   "outputs": [],
   "source": []
  }
 ],
 "metadata": {
  "kernelspec": {
   "display_name": "Python 3",
   "language": "python",
   "name": "python3"
  },
  "language_info": {
   "codemirror_mode": {
    "name": "ipython",
    "version": 3
   },
   "file_extension": ".py",
   "mimetype": "text/x-python",
   "name": "python",
   "nbconvert_exporter": "python",
   "pygments_lexer": "ipython3",
   "version": "3.8.8"
  }
 },
 "nbformat": 4,
 "nbformat_minor": 5
}
