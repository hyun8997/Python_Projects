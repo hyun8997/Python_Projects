{
 "cells": [
  {
   "cell_type": "code",
   "execution_count": 1,
   "id": "b7194618",
   "metadata": {},
   "outputs": [],
   "source": [
    "import tkinter as tk\n",
    "from tkinter import ttk"
   ]
  },
  {
   "cell_type": "code",
   "execution_count": 2,
   "id": "ccfb4919",
   "metadata": {},
   "outputs": [],
   "source": [
    "win = tk.Tk()\n",
    "win.title('python tkinter module')\n",
    "win.geometry('320x280+200+200')\n",
    "win.resizable(0, 0)\n",
    "\n",
    "label = ttk.Label(win, text='label widget', width=15, background='pink', relief='solid')\n",
    "label.pack()\n",
    "\n",
    "win.mainloop()"
   ]
  },
  {
   "cell_type": "code",
   "execution_count": 7,
   "id": "13f13550",
   "metadata": {},
   "outputs": [],
   "source": [
    "import tkinter as tk\n",
    "from tkinter import ttk\n",
    "\n",
    "win = tk.Tk()\n",
    "win.title('python tkinter module')\n",
    "win.geometry('320x280+200+200')\n",
    "win.resizable(0, 0)\n",
    "\n",
    "# tk로 하면 약자 쓸 수 있음\n",
    "label = tk.Label(win, text='label widget', width=10, bg='yellow', height=5, fg='blue', relief='sunken', padx=100, pady=-50)  \n",
    "label.pack()\n",
    "\n",
    "win.mainloop()"
   ]
  },
  {
   "cell_type": "markdown",
   "id": "45a44f50",
   "metadata": {},
   "source": [
    "# 로또 번호 6개 출력"
   ]
  },
  {
   "cell_type": "code",
   "execution_count": 15,
   "id": "13b6a961",
   "metadata": {},
   "outputs": [],
   "source": [
    "import random"
   ]
  },
  {
   "cell_type": "code",
   "execution_count": 17,
   "id": "ff71e528",
   "metadata": {
    "scrolled": true
   },
   "outputs": [],
   "source": [
    "win = tk.Tk()\n",
    "win.title('lotto')\n",
    "win.geometry('640x480+200+200')\n",
    "\n",
    "def lotto():\n",
    "    lotto = []\n",
    "    while len(lotto) < 6:\n",
    "        num = random.randint(1, 45)\n",
    "        if num not in lotto:\n",
    "            lotto.append(num)\n",
    "    \n",
    "    lotto.sort()\n",
    "    lb.config(text=lotto, background='yellow')\n",
    "\n",
    "btn = ttk.Button(win, text='lotto', command=lotto)\n",
    "btn.pack()\n",
    "\n",
    "lb = ttk.Label(win, text='')\n",
    "lb.pack()\n",
    "\n",
    "win.mainloop()"
   ]
  },
  {
   "cell_type": "markdown",
   "id": "c6f894da",
   "metadata": {},
   "source": [
    "# 사용자 요청에 따른 구구단 출력"
   ]
  },
  {
   "cell_type": "code",
   "execution_count": 31,
   "id": "24ccbe88",
   "metadata": {},
   "outputs": [],
   "source": [
    "win = tk.Tk()\n",
    "win.title('구구단')\n",
    "win.geometry('640x480+200+200')\n",
    "\n",
    "label = ['','','','','','','','','']  # 라벨이 늘어나게 초기화된 라벨 공간 선언\n",
    "for i in range(0, 9):\n",
    "        label[i] = ttk.Label(win, text='')\n",
    "\n",
    "def gugudan():  \n",
    "    for i in range(0, 9):\n",
    "        label[i].configure(text='')\n",
    "    dan = num.get()         # IntVar라는 객체이기 때문에 get으로 int빼옴, 물론 int(num.get())로 안전하게 해도 됨\n",
    "    for i in range(1, 10):  # 리스트는 0~8, 구구단은 1~9임에 유의!!!\n",
    "        #print(dan*i)\n",
    "        label[i-1].config(text=(dan*i))\n",
    "        label[i-1].pack()\n",
    "\n",
    "num = tk.IntVar()   # 숫자임을 인식시킴, 파이선이 데이터를 받고나서 형을 정하기 때문에 미리\n",
    "                    # IntVar로 받아서 int로 못씀 -> IntVar가 객체라서\n",
    "\n",
    "entry = ttk.Entry(win, textvariable=num)\n",
    "entry.pack()\n",
    "\n",
    "btn = ttk.Button(win, text='click', command=gugudan)\n",
    "btn.pack()\n",
    "\n",
    "win.mainloop()"
   ]
  }
 ],
 "metadata": {
  "kernelspec": {
   "display_name": "Python 3",
   "language": "python",
   "name": "python3"
  },
  "language_info": {
   "codemirror_mode": {
    "name": "ipython",
    "version": 3
   },
   "file_extension": ".py",
   "mimetype": "text/x-python",
   "name": "python",
   "nbconvert_exporter": "python",
   "pygments_lexer": "ipython3",
   "version": "3.8.8"
  }
 },
 "nbformat": 4,
 "nbformat_minor": 5
}
