{
 "cells": [
  {
   "cell_type": "code",
   "execution_count": 1,
   "id": "66665909",
   "metadata": {},
   "outputs": [],
   "source": [
    "# 버튼 클릭하면 Text widget에 로또 번호 6개 출력"
   ]
  },
  {
   "cell_type": "code",
   "execution_count": 2,
   "id": "53458424",
   "metadata": {},
   "outputs": [],
   "source": [
    "import tkinter as tk\n",
    "from tkinter import ttk\n",
    "import random"
   ]
  },
  {
   "cell_type": "code",
   "execution_count": 3,
   "id": "f36f6468",
   "metadata": {},
   "outputs": [],
   "source": [
    "win = tk.Tk()\n",
    "win.title('Text ex')\n",
    "win.geometry('640x480+200+200')\n",
    "\n",
    "def lotto():\n",
    "    lot_num = []\n",
    "    while len(lot_num) < 6:\n",
    "        temp = random.randint(1, 45)\n",
    "        if temp not in lot_num:\n",
    "            lot_num.append(temp)\n",
    "    lot_num.sort()\n",
    "    text.insert('current', lot_num)\n",
    "    text.insert('current', '\\n')\n",
    "\n",
    "text = tk.Text(win)\n",
    "text.pack()\n",
    "\n",
    "btn = tk.Button(win, text='출력', command=lotto)\n",
    "btn.pack()\n",
    "\n",
    "win.mainloop()"
   ]
  },
  {
   "cell_type": "code",
   "execution_count": 4,
   "id": "b2f9b285",
   "metadata": {},
   "outputs": [],
   "source": [
    "# 라디오 버튼 3개\n",
    "# 1)red 2)yellow 3)green\n",
    "# 클릭되면 윈도우 창의 색상이 정해진 value로"
   ]
  },
  {
   "cell_type": "code",
   "execution_count": 5,
   "id": "be724dc8",
   "metadata": {},
   "outputs": [],
   "source": [
    "win = tk.Tk()\n",
    "win.title('Radio ex')\n",
    "win.geometry('640x480+200+200')\n",
    "\n",
    "def check():\n",
    "    win.configure(background=rBtn1.get())\n",
    "\n",
    "rBtn1 = tk.StringVar()\n",
    "\n",
    "radioBtn1 = tk.Radiobutton(win, text='red', value='red', variable=rBtn1, command=check) \n",
    "radioBtn1.pack()\n",
    "radioBtn2 = tk.Radiobutton(win, text='yellow', value='yellow', variable=rBtn1, command=check)\n",
    "radioBtn2.pack()\n",
    "radioBtn3 = tk.Radiobutton(win, text='green', value='green', variable=rBtn1, command=check)\n",
    "radioBtn3.pack()\n",
    "\n",
    "win.mainloop()"
   ]
  },
  {
   "cell_type": "code",
   "execution_count": 6,
   "id": "de417e2a",
   "metadata": {},
   "outputs": [],
   "source": [
    "# 윈도우를 실행하면 1초 단위로 숫자가 증가하면 됨"
   ]
  },
  {
   "cell_type": "code",
   "execution_count": 1,
   "id": "4eac0ef9",
   "metadata": {},
   "outputs": [],
   "source": [
    "import tkinter as tk\n",
    "from tkinter import ttk\n",
    "import time\n",
    "import threading"
   ]
  },
  {
   "cell_type": "code",
   "execution_count": 11,
   "id": "af2b73f3",
   "metadata": {},
   "outputs": [
    {
     "name": "stderr",
     "output_type": "stream",
     "text": [
      "Exception in thread Thread-15:\n",
      "Traceback (most recent call last):\n",
      "  File \"C:\\Users\\goott7\\anaconda3\\lib\\threading.py\", line 932, in _bootstrap_inner\n",
      "    self.run()\n",
      "  File \"C:\\Users\\goott7\\anaconda3\\lib\\threading.py\", line 870, in run\n",
      "    self._target(*self._args, **self._kwargs)\n",
      "  File \"<ipython-input-11-6691790abe69>\", line 10, in timeOn\n",
      "  File \"C:\\Users\\goott7\\anaconda3\\lib\\tkinter\\__init__.py\", line 3743, in insert\n",
      "    self.tk.call((self._w, 'insert', index, chars) + args)\n",
      "RuntimeError: main thread is not in main loop\n"
     ]
    }
   ],
   "source": [
    "win = tk.Tk()\n",
    "win.title('timer ex')\n",
    "win.geometry('640x480+200+200')\n",
    "\n",
    "# thread_flag = 1\n",
    "\n",
    "def timeOn():\n",
    "    cnt = 0\n",
    "    while(True):\n",
    "        text.insert('end', cnt)\n",
    "        text.insert('end', '\\n')\n",
    "        cnt += 1\n",
    "        time.sleep(1)\n",
    "\n",
    "# def timeStart():\n",
    "#     thread_flag = 1\n",
    "\n",
    "# def timeOff():\n",
    "#     thread_flag = 0\n",
    "\n",
    "text = tk.Text(win)\n",
    "text.pack()\n",
    "\n",
    "\n",
    "# btn = ttk.Button(win, text='stop', command=timeOff)\n",
    "# btn.pack()\n",
    "\n",
    "timeOn\n",
    "\n",
    "thread1 = threading.Thread(target=timeOn)\n",
    "thread1.daemon = True # 프로그램 종료시 죽도록\n",
    "thread1.start()  # RuntimeError: main thread is not in main loop\n",
    "\n",
    "win.mainloop() "
   ]
  },
  {
   "cell_type": "code",
   "execution_count": null,
   "id": "80704ce2",
   "metadata": {},
   "outputs": [],
   "source": []
  }
 ],
 "metadata": {
  "kernelspec": {
   "display_name": "Python 3",
   "language": "python",
   "name": "python3"
  },
  "language_info": {
   "codemirror_mode": {
    "name": "ipython",
    "version": 3
   },
   "file_extension": ".py",
   "mimetype": "text/x-python",
   "name": "python",
   "nbconvert_exporter": "python",
   "pygments_lexer": "ipython3",
   "version": "3.8.8"
  }
 },
 "nbformat": 4,
 "nbformat_minor": 5
}
