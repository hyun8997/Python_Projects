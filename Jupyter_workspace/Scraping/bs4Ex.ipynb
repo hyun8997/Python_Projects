{
 "cells": [
  {
   "cell_type": "code",
   "execution_count": 3,
   "id": "e612a402",
   "metadata": {},
   "outputs": [],
   "source": [
    "import bs4"
   ]
  },
  {
   "cell_type": "code",
   "execution_count": 7,
   "id": "088e52ce",
   "metadata": {},
   "outputs": [],
   "source": [
    "html = ''''''\n",
    "\n",
    "soup = bs4.BeautifulSoup(html, 'lxml')\n",
    "\n",
    "'''\n",
    "# 파이선에서 사용하는 parser\n",
    "1) lxml            : xml 해석이 가능한 파서. 파이썬 2.x, 3.x 모두 지원\n",
    "                   : 상대적으로 다른 파서에 비해 빠름 (c 기반)\n",
    "\n",
    "2) html5lib        : 웹 브라우저 방식으로 HTML 해석\n",
    "                   : lxml과 비교하면 상대적으로 느림. \n",
    "\n",
    "3) html.parser     : html5lib와 거의 비슷\n",
    "\n",
    "'''\n"
   ]
  },
  {
   "cell_type": "code",
   "execution_count": 8,
   "id": "3b951654",
   "metadata": {},
   "outputs": [],
   "source": [
    "from bs4 import BeautifulSoup"
   ]
  },
  {
   "cell_type": "code",
   "execution_count": 10,
   "id": "412bf66a",
   "metadata": {},
   "outputs": [
    {
     "name": "stdout",
     "output_type": "stream",
     "text": [
      "<p>test</p>\n",
      "<html><body><p>test</p></body></html>\n"
     ]
    }
   ],
   "source": [
    "html = '''<p>test</p>'''\n",
    "\n",
    "print(html)\n",
    "\n",
    "soup = BeautifulSoup(html, 'lxml')\n",
    "\n",
    "# lxml은 html, body가 포함된 HTML 기본 형태로 만들어 준다.\n",
    "print(soup)"
   ]
  },
  {
   "cell_type": "code",
   "execution_count": 11,
   "id": "af9b6fd9",
   "metadata": {},
   "outputs": [
    {
     "name": "stdout",
     "output_type": "stream",
     "text": [
      "<html><body><p>test</p></body></html>\n",
      "----------------------------------------------\n",
      "<html><body><p>test</p></body></html>\n"
     ]
    }
   ],
   "source": [
    "html1 = '''<html><p>test</p></html>'''\n",
    "\n",
    "html2 = '''<body><p>test</p></body>'''\n",
    "\n",
    "soup1 = BeautifulSoup(html1, 'lxml')\n",
    "print(soup1)\n",
    "\n",
    "print('----------------------------------------------')\n",
    "soup2 = BeautifulSoup(html2, 'lxml')\n",
    "print(soup2)"
   ]
  },
  {
   "cell_type": "code",
   "execution_count": 12,
   "id": "bd85b2d2",
   "metadata": {},
   "outputs": [
    {
     "name": "stdout",
     "output_type": "stream",
     "text": [
      "<p>test</p>\n",
      "<html><head></head><body><p>test</p></body></html>\n"
     ]
    }
   ],
   "source": [
    "html = '''<p>test</p>'''\n",
    "\n",
    "print(html)\n",
    "\n",
    "soup = BeautifulSoup(html, 'html5lib')\n",
    "\n",
    "# html5lib는 웹 브라우저처럼 해석하므로 html, head, body가 포함된 HTML 기본 형태로 만들어 준다.\n",
    "print(soup)"
   ]
  },
  {
   "cell_type": "code",
   "execution_count": 19,
   "id": "4efae0ff",
   "metadata": {},
   "outputs": [
    {
     "name": "stdout",
     "output_type": "stream",
     "text": [
      "<p>test</p>\n",
      "<p>test</p>\n"
     ]
    }
   ],
   "source": [
    "html = '''<p>test</p>'''\n",
    "\n",
    "print(html)\n",
    "\n",
    "soup = BeautifulSoup(html, 'html.parser')\n",
    "\n",
    "# html.parser는 버전에 따라 (특히 최신 버전일 경우) 잘 동작하지 않을 수 있음\n",
    "print(soup)"
   ]
  },
  {
   "cell_type": "code",
   "execution_count": 30,
   "id": "754ef43f",
   "metadata": {},
   "outputs": [
    {
     "name": "stdout",
     "output_type": "stream",
     "text": [
      "lxml parser 수행 시간 : 0.000996\n"
     ]
    }
   ],
   "source": [
    "import time\n",
    "\n",
    "html = '''<html><head></head><body><p>test</p></body></html>'''\n",
    "\n",
    "sTime = time.time()\n",
    "BeautifulSoup(html, 'lxml')\n",
    "lxml_eTime = time.time() - sTime\n",
    "\n",
    "print('lxml parser 수행 시간 : %f'%(lxml_eTime))"
   ]
  },
  {
   "cell_type": "code",
   "execution_count": 31,
   "id": "736b1c41",
   "metadata": {},
   "outputs": [
    {
     "name": "stdout",
     "output_type": "stream",
     "text": [
      "html5lib parser 수행 시간 : 0.000000\n"
     ]
    }
   ],
   "source": [
    "import time\n",
    "\n",
    "html = '''<html><head></head><body><p>test</p></body></html>'''\n",
    "\n",
    "sTime = time.time()\n",
    "BeautifulSoup(html, 'html5lib')\n",
    "html5_eTime = time.time() - sTime\n",
    "\n",
    "print('html5lib parser 수행 시간 : %f'%(html5_eTime))"
   ]
  },
  {
   "cell_type": "markdown",
   "id": "c801313c",
   "metadata": {},
   "source": [
    "# BeautifuSoup 사용"
   ]
  },
  {
   "cell_type": "code",
   "execution_count": 32,
   "id": "3082aae4",
   "metadata": {},
   "outputs": [],
   "source": [
    "from bs4 import BeautifulSoup"
   ]
  },
  {
   "cell_type": "code",
   "execution_count": 33,
   "id": "94ec983f",
   "metadata": {},
   "outputs": [
    {
     "name": "stdout",
     "output_type": "stream",
     "text": [
      "<html><head></head><body><p>test</p></body></html>\n",
      "<class 'bs4.BeautifulSoup'>\n"
     ]
    }
   ],
   "source": [
    "html = '''<html><head></head><body><p>test</p></body></html>'''\n",
    "\n",
    "soup = BeautifulSoup(html, 'lxml')\n",
    "\n",
    "# BeautifulSoup 클래스를 통해 파싱된 데이터는 보통 soup이라고 표현. 그래서 관례적으로 변수도 soup이라고 사용\n",
    "print(soup)\n",
    "print(type(soup))"
   ]
  },
  {
   "cell_type": "code",
   "execution_count": 35,
   "id": "a782a2aa",
   "metadata": {},
   "outputs": [
    {
     "name": "stdout",
     "output_type": "stream",
     "text": [
      "<html><head><title>test site</title></head><body><p>test1</p><p>test2</p><p>test3</p></body></html>\n",
      "<html>\n",
      " <head>\n",
      "  <title>\n",
      "   test site\n",
      "  </title>\n",
      " </head>\n",
      " <body>\n",
      "  <p>\n",
      "   test1\n",
      "  </p>\n",
      "  <p>\n",
      "   test2\n",
      "  </p>\n",
      "  <p>\n",
      "   test3\n",
      "  </p>\n",
      " </body>\n",
      "</html>\n"
     ]
    }
   ],
   "source": [
    "html = '''<html><head><title>test site</title></head><body><p>test1</p><p>test2</p><p>test3</p></body></html>'''\n",
    "\n",
    "soup = BeautifulSoup(html, 'lxml')\n",
    "\n",
    "print(soup)\n",
    "print(soup.prettify())  # prettify() : 들여쓰기 효과"
   ]
  },
  {
   "cell_type": "code",
   "execution_count": 37,
   "id": "bef49a94",
   "metadata": {},
   "outputs": [
    {
     "name": "stdout",
     "output_type": "stream",
     "text": [
      "<p>test1</p>\n",
      "<class 'bs4.BeautifulSoup'>  :  <class 'bs4.element.Tag'>\n"
     ]
    }
   ],
   "source": [
    "html = '''<html><head><title>test site</title></head><body><p>test1</p><p>test2</p><p>test3</p></body></html>'''\n",
    "\n",
    "soup = BeautifulSoup(html, 'lxml')\n",
    "tag_p = soup.p\n",
    "\n",
    "print(tag_p)    # 같은 이름의 태그가 여러 개일 경우 첫번째 태그 정보만 가져오고 있음에 유의\n",
    "print(type(soup), ' : ', type(tag_p))\n",
    "\n",
    "# bs4.BeautifulSoup type : 문서 전체\n",
    "# bs4.element.Tag type : 각각의 태그 \n"
   ]
  },
  {
   "cell_type": "code",
   "execution_count": 40,
   "id": "fcbe5a5b",
   "metadata": {},
   "outputs": [
    {
     "name": "stdout",
     "output_type": "stream",
     "text": [
      "<title>test site</title>\n",
      "------------------\n",
      "test site\n",
      "test site\n",
      "title\n"
     ]
    }
   ],
   "source": [
    "# titile 정보만 추출\n",
    "tag_title = soup.title\n",
    "\n",
    "print(tag_title)\n",
    "print('------------------')\n",
    "print(tag_title.text)\n",
    "print(tag_title.string)         # text, string 출력은 같음. 그러나 type이 다름\n",
    "print(tag_title.name)"
   ]
  },
  {
   "cell_type": "code",
   "execution_count": 47,
   "id": "e375fa89",
   "metadata": {},
   "outputs": [
    {
     "name": "stdout",
     "output_type": "stream",
     "text": [
      "{'class': ['t'], 'id': 'ti'}\n",
      "['t']\n",
      "ti\n",
      "-----------------------------\n",
      "{'class': ['t'], 'id': 'ti'}\n",
      "['t']\n",
      "ti\n",
      "None\n",
      "alternative\n"
     ]
    }
   ],
   "source": [
    "html = '''<html><head><title class=\"t\" id=\"ti\">test site</title></head><body><p>test1</p><p>test2</p><p>test3</p></body></html>'''\n",
    "\n",
    "soup = BeautifulSoup(html, 'lxml')\n",
    "tag_title = soup.title\n",
    "\n",
    "# 태그에서 속성을 추출\n",
    "print(tag_title.attrs)  # attrs : 해당 요소의 속성을 추출 - 딕셔너리 형태로  return\n",
    "print(tag_title['class'])\n",
    "print(tag_title['id'])\n",
    "\n",
    "# print(tag_title['wow'])    # 없는 요소 (없는 key)를 추출하면 에러가 발생함에 유의 -> get()로 추출하는것을 권장\n",
    "\n",
    "print('-----------------------------')\n",
    "# 태그에서 속성을 추출하는 메소드 \n",
    "print(tag_title.attrs)\n",
    "print(tag_title.get('class'))\n",
    "print(tag_title.get('id'))\n",
    "print(tag_title.get('wow'))\n",
    "print(tag_title.get('wow', 'alternative'))\n"
   ]
  },
  {
   "cell_type": "code",
   "execution_count": 49,
   "id": "00aae21c",
   "metadata": {},
   "outputs": [
    {
     "name": "stdout",
     "output_type": "stream",
     "text": [
      "text :  test site - <class 'str'>\n",
      "str :  test site - <class 'bs4.element.NavigableString'>\n"
     ]
    }
   ],
   "source": [
    "html = '''\n",
    "        <html>\n",
    "        <head>\n",
    "        <title class=\"t\" id=\"ti\">test site</title>\n",
    "        </head>\n",
    "        <body>\n",
    "            <p>test1</p>\n",
    "            <p>test2</p>\n",
    "            <p>test3</p>\n",
    "        </body>\n",
    "        </html>'''\n",
    "\n",
    "soup = BeautifulSoup(html, 'lxml')\n",
    "tag_title = soup.title\n",
    "\n",
    "title_text = tag_title.text\n",
    "title_str = tag_title.string\n",
    "\n",
    "print('text : ', title_text, '-' ,type(title_text))\n",
    "print('str : ', title_str, '-', type(title_str))\n"
   ]
  },
  {
   "cell_type": "code",
   "execution_count": 57,
   "id": "be6d9b3a",
   "metadata": {},
   "outputs": [
    {
     "name": "stdout",
     "output_type": "stream",
     "text": [
      "text :  test0test1  -  <class 'str'>\n",
      "string :  None  -  <class 'NoneType'>\n",
      "string :  test1  -  <class 'bs4.element.NavigableString'>\n"
     ]
    }
   ],
   "source": [
    "html = '''\n",
    "        <html>\n",
    "        <head>\n",
    "        <title class=\"t\" id=\"ti\">test site</title>\n",
    "        </head>\n",
    "        <body>\n",
    "            <p>test0<span>test1</span></p>\n",
    "            <p>test2</p>\n",
    "            <p>test3</p>\n",
    "        </body>\n",
    "        </html>'''\n",
    "\n",
    "soup = BeautifulSoup(html, 'lxml')\n",
    "tag_p = soup.p\n",
    "\n",
    "p_text = tag_p.text\n",
    "p_str = tag_p.string\n",
    "span_str = tag_p.span.string\n",
    "\n",
    "print('text : ', p_text, ' - ', type(p_text))\n",
    "print('string : ', p_str, ' - ', type(p_str))\n",
    "print('string : ', span_str, ' - ', type(span_str))\n",
    "\n",
    "'''\n",
    "# text는 하위 태그 있는 문자열도 모두 추출해 줌\n",
    "# string은 선택한 태그의 문자열만 추출해 줌. 즉, 정확히 추출하고 싶다면 가장 자식 요소를 선택해줘야 함\n",
    "'''\n"
   ]
  },
  {
   "cell_type": "code",
   "execution_count": null,
   "id": "1ec75ca1",
   "metadata": {},
   "outputs": [],
   "source": []
  },
  {
   "cell_type": "code",
   "execution_count": null,
   "id": "8eb749bb",
   "metadata": {},
   "outputs": [],
   "source": []
  },
  {
   "cell_type": "code",
   "execution_count": null,
   "id": "33a9ba94",
   "metadata": {},
   "outputs": [],
   "source": []
  },
  {
   "cell_type": "code",
   "execution_count": null,
   "id": "e17b896d",
   "metadata": {},
   "outputs": [],
   "source": []
  },
  {
   "cell_type": "code",
   "execution_count": null,
   "id": "f9ddedf4",
   "metadata": {},
   "outputs": [],
   "source": []
  },
  {
   "cell_type": "code",
   "execution_count": null,
   "id": "75c71c91",
   "metadata": {},
   "outputs": [],
   "source": []
  }
 ],
 "metadata": {
  "kernelspec": {
   "display_name": "Python 3",
   "language": "python",
   "name": "python3"
  },
  "language_info": {
   "codemirror_mode": {
    "name": "ipython",
    "version": 3
   },
   "file_extension": ".py",
   "mimetype": "text/x-python",
   "name": "python",
   "nbconvert_exporter": "python",
   "pygments_lexer": "ipython3",
   "version": "3.8.8"
  }
 },
 "nbformat": 4,
 "nbformat_minor": 5
}
