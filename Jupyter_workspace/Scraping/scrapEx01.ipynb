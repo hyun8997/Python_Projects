{
 "cells": [
  {
   "cell_type": "code",
   "execution_count": 1,
   "id": "9a5f0aa7",
   "metadata": {},
   "outputs": [],
   "source": [
    "import requests as rq"
   ]
  },
  {
   "cell_type": "code",
   "execution_count": 6,
   "id": "ab527f1c",
   "metadata": {},
   "outputs": [
    {
     "data": {
      "text/plain": [
       "<Response [200]>"
      ]
     },
     "execution_count": 6,
     "metadata": {},
     "output_type": "execute_result"
    }
   ],
   "source": [
    "url = 'https://www.naver.com'\n",
    "\n",
    "#rq.get(url)\n",
    "rq.post(url)"
   ]
  },
  {
   "cell_type": "code",
   "execution_count": 7,
   "id": "a7e9928e",
   "metadata": {},
   "outputs": [
    {
     "name": "stdout",
     "output_type": "stream",
     "text": [
      "<Response [200]>\n",
      "200\n"
     ]
    }
   ],
   "source": [
    "res = rq.get(url)\n",
    "print(res)\n",
    "print(res.status_code)  # 상수를 통해서 상태코드 빼오기"
   ]
  },
  {
   "cell_type": "code",
   "execution_count": 9,
   "id": "fa078a2c",
   "metadata": {},
   "outputs": [
    {
     "name": "stdout",
     "output_type": "stream",
     "text": [
      "<Response [200]>\n",
      "200\n",
      "{'Date': 'Tue, 20 Apr 2021 06:50:24 GMT', 'Vary': 'Accept-Encoding,Cookie,Authorization', 'Server': 'ATS/8.0.8', 'X-Content-Type-Options': 'nosniff', 'P3p': 'CP=\"See https://ko.wikipedia.org/wiki/Special:CentralAutoLogin/P3P for more info.\"', 'Content-Language': 'ko', 'X-Request-Id': '5af7cb97-79e1-4b04-9a4e-d927b8065cdb', 'Last-Modified': 'Mon, 19 Apr 2021 06:20:49 GMT', 'Content-Type': 'text/html; charset=UTF-8', 'Content-Encoding': 'gzip', 'Age': '70119', 'X-Cache': 'cp5009 hit, cp5009 hit/16', 'X-Cache-Status': 'hit-front', 'Server-Timing': 'cache;desc=\"hit-front\", host;desc=\"cp5009\"', 'Strict-Transport-Security': 'max-age=106384710; includeSubDomains; preload', 'Report-To': '{ \"group\": \"wm_nel\", \"max_age\": 86400, \"endpoints\": [{ \"url\": \"https://intake-logging.wikimedia.org/v1/events?stream=w3c.reportingapi.network_error&schema_uri=/w3c/reportingapi/network_error/1.0.0\" }] }', 'NEL': '{ \"report_to\": \"wm_nel\", \"max_age\": 86400, \"failure_fraction\": 0.05, \"success_fraction\": 0.0}', 'Permissions-Policy': 'interest-cohort=()', 'Set-Cookie': 'WMF-Last-Access=21-Apr-2021;Path=/;HttpOnly;secure;Expires=Sun, 23 May 2021 00:00:00 GMT, WMF-Last-Access-Global=21-Apr-2021;Path=/;Domain=.wikipedia.org;HttpOnly;secure;Expires=Sun, 23 May 2021 00:00:00 GMT, GeoIP=KR:41:Gwangmyeong-si:37.44:126.86:v4; Path=/; secure; Domain=.wikipedia.org', 'X-Client-IP': '211.197.18.247', 'Cache-Control': 'private, s-maxage=0, max-age=0, must-revalidate', 'Accept-Ranges': 'bytes', 'Content-Length': '12030', 'Connection': 'keep-alive'}\n"
     ]
    }
   ],
   "source": [
    "url = 'https://ko.wikipedia.org/wiki/파이선'  # 이거 없는 페이지 하면 자주보던 404 뜸\n",
    "\n",
    "res = rq.get(url)\n",
    "print(res)\n",
    "print(res.status_code)  # 상수를 통해서 상태코드 빼오기\n",
    "print(res.headers)"
   ]
  },
  {
   "cell_type": "code",
   "execution_count": 10,
   "id": "a31a1888",
   "metadata": {
    "scrolled": true
   },
   "outputs": [
    {
     "name": "stdout",
     "output_type": "stream",
     "text": [
      "WMF-Last-Access=21-Apr-2021;Path=/;HttpOnly;secure;Expires=Sun, 23 May 2021 00:00:00 GMT, WMF-Last-Access-Global=21-Apr-2021;Path=/;Domain=.wikipedia.org;HttpOnly;secure;Expires=Sun, 23 May 2021 00:00:00 GMT, GeoIP=KR:41:Gwangmyeong-si:37.44:126.86:v4; Path=/; secure; Domain=.wikipedia.org\n"
     ]
    }
   ],
   "source": [
    "# 특정값 가져오기 - cookie\n",
    "header = res.headers\n",
    "\n",
    "print(header['Set-Cookie'])"
   ]
  },
  {
   "cell_type": "code",
   "execution_count": 13,
   "id": "9f75440c",
   "metadata": {},
   "outputs": [
    {
     "name": "stdout",
     "output_type": "stream",
     "text": [
      "<class 'requests.cookies.RequestsCookieJar'>\n",
      "<RequestsCookieJar[<Cookie GeoIP=KR:41:Gwangmyeong-si:37.44:126.86:v4 for .wikipedia.org/>, <Cookie WMF-Last-Access-Global=21-Apr-2021 for .wikipedia.org/>, <Cookie WMF-Last-Access=21-Apr-2021 for ko.wikipedia.org/>]>\n",
      "--------------------------\n",
      "[Cookie(version=0, name='GeoIP', value='KR:41:Gwangmyeong-si:37.44:126.86:v4', port=None, port_specified=False, domain='.wikipedia.org', domain_specified=True, domain_initial_dot=True, path='/', path_specified=True, secure=True, expires=None, discard=True, comment=None, comment_url=None, rest={}, rfc2109=False), Cookie(version=0, name='WMF-Last-Access-Global', value='21-Apr-2021', port=None, port_specified=False, domain='.wikipedia.org', domain_specified=True, domain_initial_dot=True, path='/', path_specified=True, secure=True, expires=1621728000, discard=False, comment=None, comment_url=None, rest={'HttpOnly': None}, rfc2109=False), Cookie(version=0, name='WMF-Last-Access', value='21-Apr-2021', port=None, port_specified=False, domain='ko.wikipedia.org', domain_specified=False, domain_initial_dot=False, path='/', path_specified=True, secure=True, expires=1621728000, discard=False, comment=None, comment_url=None, rest={'HttpOnly': None}, rfc2109=False)]\n"
     ]
    }
   ],
   "source": [
    "# cookies 속성\n",
    "cookies = res.cookies\n",
    "print(type(cookies))   # RequestCookieJar 객체 -> list로 리턴\n",
    "print(cookies)\n",
    "print('--------------------------')\n",
    "print(list(cookies))   # list로 사용"
   ]
  },
  {
   "cell_type": "code",
   "execution_count": 14,
   "id": "26a5e0ed",
   "metadata": {
    "scrolled": true
   },
   "outputs": [
    {
     "name": "stdout",
     "output_type": "stream",
     "text": [
      "(Cookie(version=0, name='GeoIP', value='KR:41:Gwangmyeong-si:37.44:126.86:v4', port=None, port_specified=False, domain='.wikipedia.org', domain_specified=True, domain_initial_dot=True, path='/', path_specified=True, secure=True, expires=None, discard=True, comment=None, comment_url=None, rest={}, rfc2109=False), Cookie(version=0, name='WMF-Last-Access-Global', value='21-Apr-2021', port=None, port_specified=False, domain='.wikipedia.org', domain_specified=True, domain_initial_dot=True, path='/', path_specified=True, secure=True, expires=1621728000, discard=False, comment=None, comment_url=None, rest={'HttpOnly': None}, rfc2109=False), Cookie(version=0, name='WMF-Last-Access', value='21-Apr-2021', port=None, port_specified=False, domain='ko.wikipedia.org', domain_specified=False, domain_initial_dot=False, path='/', path_specified=True, secure=True, expires=1621728000, discard=False, comment=None, comment_url=None, rest={'HttpOnly': None}, rfc2109=False))\n"
     ]
    }
   ],
   "source": [
    "print(tuple(cookies))  # tuple로도 사용"
   ]
  },
  {
   "cell_type": "code",
   "execution_count": 15,
   "id": "ba5de906",
   "metadata": {},
   "outputs": [
    {
     "name": "stdout",
     "output_type": "stream",
     "text": [
      "{'GeoIP': 'KR:41:Gwangmyeong-si:37.44:126.86:v4', 'WMF-Last-Access-Global': '21-Apr-2021', 'WMF-Last-Access': '21-Apr-2021'}\n"
     ]
    }
   ],
   "source": [
    "print(dict(cookies))   # dictionary로 사용"
   ]
  },
  {
   "cell_type": "code",
   "execution_count": null,
   "id": "729dd8c7",
   "metadata": {},
   "outputs": [],
   "source": []
  },
  {
   "cell_type": "code",
   "execution_count": null,
   "id": "43c0aea1",
   "metadata": {},
   "outputs": [],
   "source": []
  },
  {
   "cell_type": "code",
   "execution_count": null,
   "id": "73a4e2cb",
   "metadata": {},
   "outputs": [],
   "source": []
  },
  {
   "cell_type": "code",
   "execution_count": null,
   "id": "284a449e",
   "metadata": {},
   "outputs": [],
   "source": []
  },
  {
   "cell_type": "code",
   "execution_count": null,
   "id": "9916a180",
   "metadata": {},
   "outputs": [],
   "source": []
  },
  {
   "cell_type": "code",
   "execution_count": null,
   "id": "5dd4bf7d",
   "metadata": {},
   "outputs": [],
   "source": []
  },
  {
   "cell_type": "code",
   "execution_count": null,
   "id": "786f92c8",
   "metadata": {},
   "outputs": [],
   "source": []
  }
 ],
 "metadata": {
  "kernelspec": {
   "display_name": "Python 3",
   "language": "python",
   "name": "python3"
  },
  "language_info": {
   "codemirror_mode": {
    "name": "ipython",
    "version": 3
   },
   "file_extension": ".py",
   "mimetype": "text/x-python",
   "name": "python",
   "nbconvert_exporter": "python",
   "pygments_lexer": "ipython3",
   "version": "3.8.8"
  }
 },
 "nbformat": 4,
 "nbformat_minor": 5
}
